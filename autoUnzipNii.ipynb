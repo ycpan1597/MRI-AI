{
 "cells": [
  {
   "cell_type": "markdown",
   "metadata": {},
   "source": [
    "# Extract all .gz to nii"
   ]
  },
  {
   "cell_type": "code",
   "execution_count": 10,
   "metadata": {},
   "outputs": [],
   "source": [
    "import os\n",
    "\n",
    "path = '/run/user/1000/gvfs/smb-share:server=192.168.200.1,share=mri'\n",
    "folders = ['register_result', 'register_result2']\n",
    "for folder in folders:\n",
    "    subfolders = os.listdir(os.path.join(path, folder))\n",
    "    for s in subfolders:\n",
    "        if not s.startswith('.'):\n",
    "            files = os.listdir(os.path.join(path, folder, s))\n",
    "            for f in files:\n",
    "                if f.endswith('.gz'):\n",
    "                    cmd = 'gunzip -k ' + os.path.join(path, folder, s, f)\n",
    "                    os.system(cmd)"
   ]
  },
  {
   "cell_type": "markdown",
   "metadata": {},
   "source": [
    "# Copy nii files to MRI folder"
   ]
  },
  {
   "cell_type": "code",
   "execution_count": 11,
   "metadata": {},
   "outputs": [],
   "source": [
    "from shutil import copyfile\n",
    "\n",
    "directory = os.path.join(path, 'MRI')\n",
    "if not os.path.exists(directory):\n",
    "    os.makedirs(directory)\n",
    "    \n",
    "for folder in folders:\n",
    "    subfolders = os.listdir(os.path.join(path, folder))\n",
    "    for s in subfolders:\n",
    "        if not s.startswith('.'):\n",
    "            files = os.listdir(os.path.join(path, folder, s))\n",
    "            for f in files:\n",
    "                if f.endswith('.nii'):\n",
    "                    copyfile(os.path.join(path, folder, s, f), os.path.join(directory, f))"
   ]
  },
  {
   "cell_type": "markdown",
   "metadata": {},
   "source": [
    "# 20180416\n",
    "# Extract all .gz to nii "
   ]
  },
  {
   "cell_type": "code",
   "execution_count": 1,
   "metadata": {},
   "outputs": [],
   "source": [
    "import os\n",
    "\n",
    "path = '/run/user/1000/gvfs/smb-share:server=192.168.200.1,share=mri'\n",
    "folders = ['20180416資料']\n",
    "for folder in folders:\n",
    "    subfolders = os.listdir(os.path.join(path, folder))\n",
    "    for s in subfolders:\n",
    "        if not s.startswith('.'):\n",
    "            files = os.listdir(os.path.join(path, folder, s))\n",
    "            for f in files:\n",
    "                if f.endswith('.gz'):\n",
    "                    cmd = 'gunzip -k ' + os.path.join(path, folder, s, f)\n",
    "                    os.system(cmd)"
   ]
  },
  {
   "cell_type": "markdown",
   "metadata": {},
   "source": [
    "# Copy nii files to MRI folder"
   ]
  },
  {
   "cell_type": "code",
   "execution_count": 2,
   "metadata": {},
   "outputs": [],
   "source": [
    "from shutil import copyfile\n",
    "\n",
    "directory = os.path.join(path, 'MRI')\n",
    "if not os.path.exists(directory):\n",
    "    os.makedirs(directory)\n",
    "    \n",
    "for folder in folders:\n",
    "    subfolders = os.listdir(os.path.join(path, folder))\n",
    "    for s in subfolders:\n",
    "        if not s.startswith('.'):\n",
    "            files = os.listdir(os.path.join(path, folder, s))\n",
    "            for f in files:\n",
    "                if f.endswith('.nii'):\n",
    "                    copyfile(os.path.join(path, folder, s, f), os.path.join(directory, f))"
   ]
  },
  {
   "cell_type": "code",
   "execution_count": null,
   "metadata": {},
   "outputs": [],
   "source": []
  }
 ],
 "metadata": {
  "kernelspec": {
   "display_name": "Python 3",
   "language": "python",
   "name": "python3"
  },
  "language_info": {
   "codemirror_mode": {
    "name": "ipython",
    "version": 3
   },
   "file_extension": ".py",
   "mimetype": "text/x-python",
   "name": "python",
   "nbconvert_exporter": "python",
   "pygments_lexer": "ipython3",
   "version": "3.5.2"
  }
 },
 "nbformat": 4,
 "nbformat_minor": 2
}
