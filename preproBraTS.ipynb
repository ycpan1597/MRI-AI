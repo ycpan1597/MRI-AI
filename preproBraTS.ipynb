{
 "cells": [
  {
   "cell_type": "markdown",
   "metadata": {},
   "source": [
    "# Unzip .nii.gz files"
   ]
  },
  {
   "cell_type": "code",
   "execution_count": null,
   "metadata": {
    "collapsed": true
   },
   "outputs": [],
   "source": [
    "import os\n",
    "\n",
    "directory = os.path.join('/run/user/1000/gvfs/smb-share:server=192.168.200.1,share=mri', \n",
    "                         'BraTS2018', 'MICCAI_BraTS_2018_Data_Training')\n",
    "\n",
    "folders = ['HGG', 'LGG']\n",
    "for folder in folders:\n",
    "    subfolders = os.listdir(os.path.join(directory, folder))\n",
    "    for s in subfolders:\n",
    "        files = os.listdir(os.path.join(directory, folder, s))\n",
    "        for f in files:\n",
    "            if f.endswith('.nii.gz'):\n",
    "                print (f)\n",
    "                cmd = 'gunzip -k ' + os.path.join(directory, folder, s, f)\n",
    "                os.system(cmd)"
   ]
  },
  {
   "cell_type": "markdown",
   "metadata": {},
   "source": [
    "# Move .nii files to other folders"
   ]
  },
  {
   "cell_type": "code",
   "execution_count": null,
   "metadata": {
    "collapsed": true
   },
   "outputs": [],
   "source": [
    "import os\n",
    "from shutil import move\n",
    "import time\n",
    "\n",
    "def checkdir(path):\n",
    "    if not os.path.exists(path):\n",
    "        os.makedirs(path)\n",
    "        \n",
    "        \n",
    "directory = os.path.join('/run/user/1000/gvfs/smb-share:server=192.168.200.1,share=mri', \n",
    "                         'BraTS2018', 'MICCAI_BraTS_2018_Data_Training')\n",
    "\n",
    "folders = ['HGG', 'LGG']\n",
    "for folder in folders:\n",
    "    subfolders = os.listdir(os.path.join(directory, folder))\n",
    "    for s in subfolders:\n",
    "        files = os.listdir(os.path.join(directory, folder, s))\n",
    "        for f in files:\n",
    "            if f.endswith('.nii'):\n",
    "                checkdir(os.path.join(directory, folder + '_nii', s))\n",
    "                time.sleep(0.01)\n",
    "                print (f)\n",
    "                move(os.path.join(directory, folder, s, f),\n",
    "                     os.path.join(directory, folder + '_nii', s, f))"
   ]
  },
  {
   "cell_type": "markdown",
   "metadata": {},
   "source": [
    "# Load .nii files to .h5"
   ]
  },
  {
   "cell_type": "code",
   "execution_count": null,
   "metadata": {
    "collapsed": true
   },
   "outputs": [],
   "source": [
    "import os\n",
    "import numpy as np\n",
    "import nibabel as nib\n",
    "import h5py\n",
    "import pandas as pd\n",
    "          \n",
    "directory = os.path.join('..', 'BraTS2018', 'data')\n",
    "\n",
    "folders = ['HGG'] #, 'HGG']\n",
    "views = ['seg', 'flair', 't1', 't1ce', 't2']\n",
    "imsize = (240, 240, 155)\n",
    "\n",
    "patients = dict()\n",
    "patients_csv = pd.read_csv(os.path.join(directory, 'patients.csv'))\n",
    "for f in folders:\n",
    "    # Load patients in csv \n",
    "    cleanlist = [x for x in patients_csv[f] if str(x) != 'nan']\n",
    "    patients[f] = cleanlist[:100]\n",
    "    print ('{} patients in {}'.format(len(cleanlist), f))\n",
    "\n",
    "    # Load nii files\n",
    "    dataPath = os.path.join(directory, f + '_nii')\n",
    "    \n",
    "    filenames = []\n",
    "    images = np.empty([len(patients[f])*len(views), imsize[0], imsize[1], imsize[2]])\n",
    "    for i, d in enumerate(patients[f]):\n",
    "        print ('{} patients processed.'.format(i))\n",
    "        \n",
    "        for j, v in enumerate(views):\n",
    "            # Get gt and image file \n",
    "            dataname = d + '_' + v + '.nii'\n",
    "            nii = nib.load(os.path.join(dataPath, dataname))\n",
    "            image = np.array(nii.get_data())\n",
    "            images[i*len(views)+j, :, :, :] = np.expand_dims(image, axis=0)\n",
    "            filenames.append(dataname)   \n",
    "\n",
    "    filenames = [f.encode('utf8') for f in filenames]\n",
    "\n",
    "    print ('Total data: {}'.format(len(filenames)))\n",
    "    assert len(filenames) == images.shape[0]\n",
    "\n",
    "    hf = h5py.File(os.path.join(directory, f + '.h5'), 'w')\n",
    "    hf.create_dataset('filenames', data=filenames)\n",
    "    hf.create_dataset('images', data=images)\n",
    "    hf.close()"
   ]
  },
  {
   "cell_type": "markdown",
   "metadata": {},
   "source": [
    "# Check BraTS segs and views"
   ]
  },
  {
   "cell_type": "code",
   "execution_count": 5,
   "metadata": {},
   "outputs": [
    {
     "name": "stdout",
     "output_type": "stream",
     "text": [
      "(240, 240, 155)\n"
     ]
    },
    {
     "data": {
      "image/png": "[encoded data removed]",
      "text/plain": [
       "<matplotlib.figure.Figure at 0x1122cfd68>"
      ]
     },
     "metadata": {},
     "output_type": "display_data"
    }
   ],
   "source": [
    "import os\n",
    "import numpy as np\n",
    "import nibabel as nib\n",
    "\n",
    "import matplotlib.pyplot as plt\n",
    "%matplotlib inline\n",
    "\n",
    "directory = os.path.join('..', 'BraTS2018', 'data')\n",
    "segs = ['HGG/Brats18_2013_20_1', 'LGG/Brats18_2013_0_1']\n",
    "views = ['seg', 'flair', 't1', 't1ce', 't2']\n",
    "\n",
    "nii = nib.load(os.path.join(directory, segs[1]+'_'+views[0]+'.nii'))\n",
    "image = np.array(nii.get_data())\n",
    "print (image.shape)\n",
    "\n",
    "plt.subplot(1, 3, 1)\n",
    "plt.imshow(image[120, :, :])\n",
    "\n",
    "plt.subplot(1, 3, 2)\n",
    "plt.imshow(image[:, 120, :])\n",
    "\n",
    "plt.subplot(1, 3, 3)\n",
    "plt.imshow(image[:, :, 80])\n",
    "\n",
    "plt.show()"
   ]
  },
  {
   "cell_type": "markdown",
   "metadata": {},
   "source": [
    "# See labels in slices"
   ]
  },
  {
   "cell_type": "code",
   "execution_count": 6,
   "metadata": {},
   "outputs": [
    {
     "name": "stdout",
     "output_type": "stream",
     "text": [
      "[0 1 2 4]\n"
     ]
    }
   ],
   "source": [
    "imslice = image[120, :, :]\n",
    "lbl = np.unique(imslice)\n",
    "print (lbl)"
   ]
  },
  {
   "cell_type": "markdown",
   "metadata": {},
   "source": [
    "# U-Net 3D Test"
   ]
  },
  {
   "cell_type": "code",
   "execution_count": 7,
   "metadata": {},
   "outputs": [
    {
     "name": "stdout",
     "output_type": "stream",
     "text": [
      "(1, 1, 240, 240, 152)\n"
     ]
    }
   ],
   "source": [
    "import torch\n",
    "from models import unet3d\n",
    "from torch.autograd import Variable\n",
    "from scipy.misc import imresize\n",
    "from PIL import Image\n",
    "\n",
    "\n",
    "image = np.resize(image, (240, 240, 152))   # this will affect the final mask? \n",
    "                                            # (it should be resize back and maybe some error happens)\n",
    "image = np.expand_dims(image, axis=0)\n",
    "image = np.expand_dims(image, axis=0)\n",
    "print (image.shape)\n",
    "\n",
    "image = torch.from_numpy(image)\n",
    "image = image.type('torch.FloatTensor')\n",
    "x = Variable(image)"
   ]
  },
  {
   "cell_type": "code",
   "execution_count": null,
   "metadata": {
    "collapsed": true
   },
   "outputs": [],
   "source": [
    "model = unet3d(in_dim=1,out_dim=1,num_filter=4)\n",
    "print (model(x))  # 1x16x120x120x76, 1x8x120x120x77"
   ]
  },
  {
   "cell_type": "code",
   "execution_count": null,
   "metadata": {
    "collapsed": true
   },
   "outputs": [],
   "source": [
    "# depth not work 155, 154"
   ]
  },
  {
   "cell_type": "code",
   "execution_count": 8,
   "metadata": {},
   "outputs": [
    {
     "name": "stdout",
     "output_type": "stream",
     "text": [
      "0 [-1  0]\n",
      "1 [-1  0]\n",
      "2 [-1  0]\n",
      "3 [-1  0]\n",
      "4 [-1  0]\n",
      "5 [-1  0]\n",
      "6 [-1  0]\n",
      "7 [-1  0]\n",
      "8 [-1  0]\n",
      "9 [-1  0]\n",
      "10 [-1  0]\n",
      "11 [-1  0]\n",
      "12 [-1  0]\n",
      "13 [-1  0]\n",
      "14 [-1  0]\n",
      "15 [-1  0]\n",
      "16 [-1  0]\n",
      "17 [-1  0]\n",
      "18 [-1  0]\n",
      "19 [-1  0]\n",
      "20 [-1  0]\n",
      "21 [-1  0]\n",
      "22 [-1  0]\n",
      "23 [-1  0]\n",
      "24 [-1  0]\n",
      "25 [-1  0]\n",
      "26 [-1  0]\n",
      "27 [-1  0]\n",
      "28 [-1  0]\n",
      "29 [-1  0]\n",
      "30 [-1  0]\n",
      "31 [-1  0]\n",
      "32 [-1  0]\n",
      "33 [-1  0]\n",
      "34 [-1  0]\n",
      "35 [-1  0]\n",
      "36 [-1  0]\n",
      "37 [-1  0]\n",
      "38 [-1  0]\n",
      "39 [-1  0]\n",
      "40 [-1  0]\n",
      "41 [-1  0]\n",
      "42 [-1  0]\n",
      "43 [-1  0]\n",
      "44 [-1  0]\n",
      "45 [-1  0]\n",
      "46 [-1  0]\n",
      "47 [-1  0]\n",
      "48 [-1  0]\n",
      "49 [-1  0]\n",
      "50 [-1  0]\n",
      "51 [-1  0]\n",
      "52 [-1  0]\n",
      "53 [-1  0]\n",
      "54 [-1  0]\n",
      "55 [-1  0]\n",
      "56 [-1  0]\n",
      "57 [-1  0]\n",
      "58 [-1  0]\n",
      "59 [-1  0  2]\n",
      "60 [-1  0  2]\n",
      "61 [-1  0  2]\n",
      "62 [-1  0  2]\n",
      "63 [-1  0  2]\n",
      "64 [-1  0  2]\n",
      "65 [-1  0  2]\n",
      "66 [-1  0  2]\n",
      "67 [-1  0  2]\n",
      "68 [-1  0  2]\n",
      "69 [-1  0  2]\n",
      "70 [-1  0  2]\n",
      "71 [-1  0  2]\n",
      "72 [-1  0  2]\n",
      "73 [-1  0  2]\n",
      "74 [-1  0  2]\n",
      "75 [-1  0  2]\n",
      "76 [-1  0  2]\n",
      "77 [-1  0  2]\n",
      "78 [-1  0  1  2  4]\n",
      "79 [-1  0  1  2  4]\n",
      "80 [-1  0  1  2  4]\n",
      "81 [-1  0  1  2  4]\n",
      "82 [-1  0  1  2  4]\n",
      "83 [-1  0  1  2  4]\n",
      "84 [-1  0  1  2  4]\n",
      "85 [-1  0  1  2  4]\n",
      "86 [-1  0  1  2  4]\n",
      "87 [-1  0  1  2  4]\n",
      "88 [-1  0  1  2  4]\n",
      "89 [-1  0  1  2  4]\n",
      "90 [-1  0  1  2  4]\n",
      "91 [-1  0  1  2  4]\n",
      "92 [-1  0  1  2  4]\n",
      "93 [-1  0  1  2  4]\n",
      "94 [-1  0  1  2  4]\n",
      "95 [-1  0  1  2  4]\n",
      "96 [-1  0  1  2  4]\n",
      "97 [-1  0  1  2  4]\n",
      "98 [-1  0  1  2  4]\n",
      "99 [-1  0  1  2  4]\n",
      "100 [-1  0  1  2  4]\n",
      "101 [-1  0  1  2  4]\n",
      "102 [-1  0  1  2  4]\n",
      "103 [-1  0  1  2  4]\n",
      "104 [-1  0  1  2  4]\n",
      "105 [-1  0  1  2  4]\n",
      "106 [-1  0  1  2  4]\n",
      "107 [-1  0  1  2  4]\n",
      "108 [-1  0  1  2  4]\n",
      "109 [-1  0  1  2  4]\n",
      "110 [-1  0  1  2  4]\n",
      "111 [-1  0  1  2  4]\n",
      "112 [-1  0  1  2  4]\n",
      "113 [-1  0  1  2  4]\n",
      "114 [-1  0  1  2  4]\n",
      "115 [-1  0  1  2  4]\n",
      "116 [-1  0  1  2  4]\n",
      "117 [-1  0  1  2  4]\n",
      "118 [-1  0  1  2  4]\n",
      "119 [-1  0  1  2  4]\n",
      "120 [-1  0  1  2  4]\n",
      "121 [-1  0  1  2  4]\n",
      "122 [-1  0  1  2  4]\n",
      "123 [-1  0  1  2  4]\n",
      "124 [-1  0  1  2  4]\n",
      "125 [-1  0  1  2  4]\n",
      "126 [-1  0  2]\n",
      "127 [-1  0  2]\n",
      "128 [-1  0  2]\n",
      "129 [-1  0  2]\n",
      "130 [-1  0  2]\n",
      "131 [-1  0  2]\n",
      "132 [-1  0  2]\n",
      "133 [-1  0  2]\n",
      "134 [-1  0  2]\n",
      "135 [-1  0  2]\n",
      "136 [-1  0  2]\n",
      "137 [-1  0  2]\n",
      "138 [-1  0  2]\n",
      "139 [-1  0  2]\n",
      "140 [-1  0  2]\n",
      "141 [-1  0  2]\n",
      "142 [-1  0  2]\n",
      "143 [-1  0  2]\n",
      "144 [-1  0  2]\n",
      "145 [-1  0  2]\n",
      "146 [-1  0  2]\n",
      "147 [-1  0  2]\n",
      "148 [-1  0  2]\n",
      "149 [-1  0  2]\n",
      "150 [-1  0  2]\n",
      "151 [-1  0  2]\n",
      "152 [-1  0  2]\n",
      "153 [-1  0  2]\n",
      "154 [-1  0  2]\n",
      "155 [-1  0  2]\n",
      "156 [-1  0  2]\n",
      "157 [-1  0  2]\n",
      "158 [-1  0]\n",
      "159 [-1  0]\n",
      "160 [-1  0]\n",
      "161 [-1  0]\n",
      "162 [-1  0]\n",
      "163 [-1  0]\n",
      "164 [-1  0]\n",
      "165 [-1  0]\n",
      "166 [-1  0]\n",
      "167 [-1  0]\n",
      "168 [-1  0]\n",
      "169 [-1  0]\n",
      "170 [-1  0]\n",
      "171 [-1  0]\n",
      "172 [-1  0]\n",
      "173 [-1  0]\n",
      "174 [-1  0]\n",
      "175 [-1  0]\n",
      "176 [-1  0]\n",
      "177 [-1  0]\n",
      "178 [-1  0]\n",
      "179 [-1  0]\n",
      "180 [-1  0]\n",
      "181 [-1  0]\n",
      "182 [-1  0]\n",
      "183 [-1  0]\n",
      "184 [-1  0]\n",
      "185 [-1  0]\n",
      "186 [-1  0]\n",
      "187 [-1  0]\n",
      "188 [-1  0]\n",
      "189 [-1  0]\n",
      "190 [-1  0]\n",
      "191 [-1  0]\n",
      "192 [-1  0]\n",
      "193 [-1  0]\n",
      "194 [-1  0]\n",
      "195 [-1  0]\n",
      "196 [-1  0]\n",
      "197 [-1  0]\n",
      "198 [-1  0]\n",
      "199 [-1  0]\n",
      "200 [-1  0]\n",
      "201 [-1  0]\n",
      "202 [-1  0]\n",
      "203 [-1  0]\n",
      "204 [-1  0]\n",
      "205 [-1  0]\n",
      "206 [-1  0]\n",
      "207 [-1  0]\n",
      "208 [-1  0]\n",
      "209 [-1  0]\n",
      "210 [-1  0]\n",
      "211 [-1  0]\n",
      "212 [-1  0]\n",
      "213 [-1  0]\n",
      "214 [-1  0]\n",
      "215 [-1  0]\n",
      "216 [-1  0]\n",
      "217 [-1  0]\n",
      "218 [-1  0]\n",
      "219 [-1  0]\n",
      "220 [-1  0]\n",
      "221 [-1  0]\n",
      "222 [-1  0]\n",
      "223 [-1  0]\n",
      "224 [-1  0]\n",
      "225 [-1  0]\n",
      "226 [-1  0]\n",
      "227 [-1  0]\n",
      "228 [-1  0]\n",
      "229 [-1  0]\n",
      "230 [-1  0]\n",
      "231 [-1  0]\n",
      "232 [-1  0]\n",
      "233 [-1  0]\n",
      "234 [-1  0]\n",
      "235 [-1  0]\n",
      "236 [-1  0]\n",
      "237 [-1  0]\n",
      "238 [-1  0]\n",
      "239 [-1  0]\n"
     ]
    }
   ],
   "source": [
    "import os\n",
    "import numpy as np\n",
    "import nibabel as nib\n",
    "\n",
    "import matplotlib.pyplot as plt\n",
    "%matplotlib inline\n",
    "\n",
    "directory = '/run/user/1000/gvfs/smb-share:server=192.168.200.1,share=mri/BraTS2018/MICCAI_BraTS_2018_Data_Training'\n",
    "nii = nib.load(os.path.join(directory, 'HGG/Brats18_2013_18_1_seg.nii'))\n",
    "image = np.array(nii.get_data())\n",
    "\n",
    "for s in range(image.shape[0]):\n",
    "    imslice = image[s, :, :]\n",
    "    lbl = np.unique(imslice)\n",
    "    print (s, lbl)\n",
    "\n",
    "# plt.imshow(image[78, :, :])"
   ]
  },
  {
   "cell_type": "code",
   "execution_count": 11,
   "metadata": {},
   "outputs": [
    {
     "name": "stdout",
     "output_type": "stream",
     "text": [
      "[[ 0  1  2 -1  0]\n",
      " [ 0  1  2 -1  0]]\n",
      "[[0 1 2 0 0]\n",
      " [0 1 2 0 0]]\n"
     ]
    }
   ],
   "source": [
    "import numpy as np\n",
    "\n",
    "a = np.array([[0, 1, 2, -1, 255], [0, 1, 2, -1, 255]])\n",
    "a[a > 5] = 0\n",
    "print (a)\n",
    "a[a < 0] = 0\n",
    "print (a)"
   ]
  },
  {
   "cell_type": "code",
   "execution_count": null,
   "metadata": {},
   "outputs": [],
   "source": []
  }
 ],
 "metadata": {
  "kernelspec": {
   "display_name": "Python 3",
   "language": "python",
   "name": "python3"
  },
  "language_info": {
   "codemirror_mode": {
    "name": "ipython",
    "version": 3
   },
   "file_extension": ".py",
   "mimetype": "text/x-python",
   "name": "python",
   "nbconvert_exporter": "python",
   "pygments_lexer": "ipython3",
   "version": "3.6.4"
  }
 },
 "nbformat": 4,
 "nbformat_minor": 2
}
